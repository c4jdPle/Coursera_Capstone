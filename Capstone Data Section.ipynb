{
 "cells": [
  {
   "cell_type": "markdown",
   "id": "55d676cf",
   "metadata": {},
   "source": [
    "### Vegetarian and Vegan Options in Queens, NY"
   ]
  },
  {
   "cell_type": "markdown",
   "id": "f613e319",
   "metadata": {},
   "source": [
    "#### Data Section"
   ]
  },
  {
   "cell_type": "markdown",
   "id": "2a78222f",
   "metadata": {},
   "source": [
    "Foursquare data was generated to explore the most popular venues to locate vegetarian and vegan restaurants to determine the best neighborhoods for additional sites of vegetarian and vegan restaurants. First, numpy, folium, pandas, json, matplotlib, and sklearn libraries are imported. The provided New York data json file is used as the raw data for examination. It lists the neighborhoods, longitude, latitude, and borough name for each area in New York City and this information will be used to create neighborhood clusters. This data is organized into a pandas dataframe. The first 21 rows are displayed to show several neighborhoods in the first listed borough. The number of boroughs and neighborhoods are confirmed to be 5 boroughs and 306 neighborhoods. A folium map is displayed to visualize the neighborhoods and boroughs. Queens is selected based on business interests for expansion into the multicultural borough of New York City as there is need for more vegetarian and dining options according to Yelp.com reviews. A zoomed in map highlighting the Queens borough of New York area is displayed. The first row of the Neighborhoods column is displayed to confirm and demonstrate that segments of Queens are included in the data. A search query for 'Vegetarian is used' as it is listed as a category as one of the most common venues in Queens, New York. My Foursquare credentials allow access into exploring the neighborhoods in Queens for most common venues. Foursquare data and pandas are used to highlight the categories in Queens, New York. One hundred venues are returned by Foursquare. A dataframe table includes a list of all Queens’ neighborhoods and venue category by number to get a high-level view of the diversity of venues in queens. The top 5 venues are then listed as individual data tables with their corresponding frequency, which demonstrates the rank of the common venues compared to the other listed venues. A new dataframe table organizes the Queens ten most common venues for each Queens' neighborhood. K-means clustering sorts the Queens neighborhoods according to common venue data. This is then used to create a new dataframe table. Folium mapping allows us to visualize the clusters created according to common venues in Queens. Data frame of 5 example clusters for venues in Queens are used to locate common venues of any type restaurant, gym, park, etc. to arrive at the most common vegetarian and vegan restaurants listed as a top 10 venue in Queens’ neighborhoods. If a vegetarian and vegan restaurant is listed it is a prime area for this type of dining and other locations are discovered that do not have a vegetarian and vegan restaurant option as a leading top 10 venue. These would be locations to explore to grow the vegetarian and vegan dining experience."
   ]
  },
  {
   "cell_type": "code",
   "execution_count": null,
   "id": "18762c62",
   "metadata": {},
   "outputs": [],
   "source": []
  }
 ],
 "metadata": {
  "kernelspec": {
   "display_name": "Python 3",
   "language": "python",
   "name": "python3"
  },
  "language_info": {
   "codemirror_mode": {
    "name": "ipython",
    "version": 3
   },
   "file_extension": ".py",
   "mimetype": "text/x-python",
   "name": "python",
   "nbconvert_exporter": "python",
   "pygments_lexer": "ipython3",
   "version": "3.8.8"
  }
 },
 "nbformat": 4,
 "nbformat_minor": 5
}
