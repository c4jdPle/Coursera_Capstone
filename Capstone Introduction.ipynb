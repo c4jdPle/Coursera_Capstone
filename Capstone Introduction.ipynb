{
 "cells": [
  {
   "cell_type": "markdown",
   "id": "2dd39779",
   "metadata": {},
   "source": [
    "### Vegetarian and Vegan Options in Queens, NY"
   ]
  },
  {
   "cell_type": "markdown",
   "id": "c1546673",
   "metadata": {},
   "source": [
    "#### Introduction"
   ]
  },
  {
   "cell_type": "markdown",
   "id": "7b86bac4",
   "metadata": {},
   "source": [
    "New York City is one of the most multicultural cities in the world. There are many dining options in various locations in New York City such as Queens, New York. However, many dining options have fewer options for vegetarian and vegan restaurants though these options have become increasingly popular in the recent decade due to health-conscious consumers. It is known today that Vegetarians may have lower blood pressure, type -2 diabetes, lower cancer risk, and reduces risk for other chronic disease (Kelly, WebMD.com). Vegetarian and vegan food businesses are growing as studies are showing vegetarian diets may reduce healthcare costs and support the economy and environment (Davis, The Atlantic, 2016). Businesses looking to expand quality healthy foods not featuring animal products have much opportunity to establish themselves across Queens. According to Yelp.com reviews, quality vegetarian and vegan restaurants and dining venues would apparently be appreciated by local residents. More options will increase convenience for residents in particular neighborhoods by reducing travel and wait times for orders. A business with more options would satisfy specific vegetarian preferences of restaurant goers. For example, those who prefer to have or not to have certain vegetable, herbs, or spices in their foods would have more options. Those looking for a variety of unique and bold flavors in vegetarian and vegan options may be pleased with a new dining option. Businesses that enter into the Queens community may be more successful if carry-out, delivery, and dine-in are also available to residents. There are neighborhoods that businesses may do well in where there are beaches, site seeing areas, recreational areas, and farms or farmers markets to fit consumers' interests as high traffic areas that may successful characteristics for new business. First, it is helpful to look at where the few vegetarian and vegan options are located in Queens to either construct a new restaurant in these same areas that have interest in more options or to begin options in other Queens' neighborhoods that would appreciate the new business.\n",
    "\n",
    "Diana Kelly, Nourish by WedMD, *Is it better to be a vegetarian?*  https://www.webmd.com/diet/features/is-it-better-to-be-a-vegetarian#1  \n",
    "Lauren C Davis, *The Economic Case for Worldwide Vegetarianism*, March 28 2016, https://www.theatlantic.com/business/archive/2016/03/the-economic-case-for-worldwide-vegetarianism/475524/  \n"
   ]
  },
  {
   "cell_type": "code",
   "execution_count": null,
   "id": "9148aa63",
   "metadata": {},
   "outputs": [],
   "source": []
  }
 ],
 "metadata": {
  "kernelspec": {
   "display_name": "Python 3",
   "language": "python",
   "name": "python3"
  },
  "language_info": {
   "codemirror_mode": {
    "name": "ipython",
    "version": 3
   },
   "file_extension": ".py",
   "mimetype": "text/x-python",
   "name": "python",
   "nbconvert_exporter": "python",
   "pygments_lexer": "ipython3",
   "version": "3.8.8"
  }
 },
 "nbformat": 4,
 "nbformat_minor": 5
}
