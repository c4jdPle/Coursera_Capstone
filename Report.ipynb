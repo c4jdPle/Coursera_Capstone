{
 "cells": [
  {
   "cell_type": "markdown",
   "id": "1348a89a-0ba5-4727-8d8b-412862e75117",
   "metadata": {},
   "source": [
    "## Vegetarian and Vegan Options in Queens, NY: Finding Locations for New Restaurants"
   ]
  },
  {
   "cell_type": "markdown",
   "id": "72de2af6-45b1-43fc-bf7c-0cc82f77326f",
   "metadata": {},
   "source": [
    "### Introduction"
   ]
  },
  {
   "cell_type": "markdown",
   "id": "d71fa0c8-360c-45eb-8dff-7a5297b202e3",
   "metadata": {},
   "source": [
    "New York City is one of the most multicultural cities in the world. There are many dining options in various locations in New York City such as Queens, New York. However, many dining options have fewer options for vegetarian and vegan restaurants though these options have become increasingly popular in the recent decade due to health-conscious consumers. It is known today that Vegetarians may have lower blood pressure, type -2 diabetes, lower cancer risk, and reduces risk for other chronic disease (Kelly, WebMD.com). Vegetarian and vegan food businesses are growing as studies are showing vegetarian diets may reduce healthcare costs and support the economy and environment (Davis, The Atlantic, 2016). Businesses looking to expand quality healthy foods not featuring animal products have much opportunity to establish themselves across Queens. According to Yelp.com reviews, quality vegetarian and vegan restaurants and dining venues would apparently be appreciated by local residents. More options will increase convenience for residents in particular neighborhoods by reducing travel and wait times for orders. A business with more options would satisfy specific vegetarian preferences of restaurant goers. For example, those who prefer to have or not to have certain vegetable, herbs, or spices in their foods would have more options. Those looking for a variety of unique and bold flavors in vegetarian and vegan options may be pleased with a new dining option. Businesses that enter into the Queens community may be more successful if carry-out, delivery, and dine-in are also available to residents. There are neighborhoods that businesses may do well in where there are beaches, site seeing areas, recreational areas, and farms or farmers markets to fit consumers' interests as high traffic areas that may successful characteristics for new business. First, it is helpful to look at where the few vegetarian and vegan options are located in Queens to either construct a new restaurant in these same areas that have interest in more options or to begin options in other Queens' neighborhoods that would appreciate the new business.\n",
    "\n",
    "Diana Kelly, Nourish by WedMD, Is it better to be a vegetarian? https://www.webmd.com/diet/features/is-it-better-to-be-a-vegetarian#1\n",
    "Lauren C Davis, The Economic Case for Worldwide Vegetarianism, March 28 2016, https://www.theatlantic.com/business/archive/2016/03/the-economic-case-for-worldwide-vegetarianism/475524/\n"
   ]
  },
  {
   "cell_type": "markdown",
   "id": "25708e62-cf40-4b51-beb2-e04429060cc4",
   "metadata": {},
   "source": [
    "### Data"
   ]
  },
  {
   "cell_type": "markdown",
   "id": "e28d52cf-8918-4e77-85b6-c9f49a1795ee",
   "metadata": {},
   "source": [
    "Foursquare data was generated to explore the most popular venues to locate vegetarian and vegan restaurants to determine the best neighborhoods for additional sites of vegetarian and vegan restaurants. First, numpy, folium, pandas, json, matplotlib, and sklearn libraries are imported. The provided New York data json file is used as the raw data for examination. It lists the neighborhoods, longitude, latitude, and borough name for each area in New York City and this information will be used to create neighborhood clusters. This data is organized into a pandas dataframe. The first 21 rows are displayed to show several neighborhoods in the first listed borough. The number of boroughs and neighborhoods are confirmed to be 5 boroughs and 306 neighborhoods. A folium map is displayed to visualize the neighborhoods and boroughs. Queens is selected based on business interests for expansion into the multicultural borough of New York City as there is need for more vegetarian and dining options according to Yelp.com reviews. A zoomed in map highlighting the Queens borough of New York area is displayed. The first row of the Neighborhoods column is displayed to confirm and demonstrate that segments of Queens are included in the data. A search query for 'Vegetarian is used' as it is listed as a category as one of the most common venues in Queens, New York. My Foursquare credentials allow access into exploring the neighborhoods in Queens for most common venues. Foursquare data and pandas are used to highlight the categories in Queens, New York. One hundred venues are returned by Foursquare. A dataframe table includes a list of all Queens’ neighborhoods and venue category by number to get a high-level view of the diversity of venues in queens. The top 5 venues are then listed as individual data tables with their corresponding frequency, which demonstrates the rank of the common venues compared to the other listed venues. A new dataframe table organizes the Queens ten most common venues for each Queens' neighborhood. K-means clustering sorts the Queens neighborhoods according to common venue data. This is then used to create a new dataframe table. Folium mapping allows us to visualize the clusters created according to common venues in Queens. Data frame of 5 example clusters for venues in Queens are used to locate common venues of any type restaurant, gym, park, etc. to arrive at the most common vegetarian and vegan restaurants listed as a top 10 venue in Queens’ neighborhoods. If a vegetarian and vegan restaurant is listed it is a prime area for this type of dining and other locations are discovered that do not have a vegetarian and vegan restaurant option as a leading top 10 venue. These would be locations to explore to grow the vegetarian and vegan dining experience."
   ]
  },
  {
   "cell_type": "markdown",
   "id": "de896ec4-3658-4d2b-8b3e-1a68f63be7d2",
   "metadata": {},
   "source": [
    "### Methodology"
   ]
  },
  {
   "cell_type": "markdown",
   "id": "12589d96-a3d0-4a1a-b6a3-b2cd9e178603",
   "metadata": {},
   "source": [
    "Numpy, pandas, random, json, matplotlib, sklearn, and folium are imported libraries for analysis and visualization of the data. Provided New York data is used to locate Queens, New York. The data is loaded using the json file and Queens, New York is listed as a borough with its coordinates of longitude -73.9456 and latitude 40.7561. Ln 14 shows the first 21 rows of boroughs in New York and the neighborhoods with in them listed individually in each row as an example of what is shown in the dataframe. Format, unique, and shape commands are used to determine the number of boroughs and neighborhoods in New York. There are 5 boroughs and 306 neighborhoods meaning there are numerous areas to consider for building a vegetarian / vegan restaurant. To confirm that the code is working the coordinates of New York City are also entered and found to be latitude of 40.7127 and longitude of -74.0060.\n",
    "\n",
    "A folium map displays all of the boroughs in New York City. Reset_index coding is used to navigate to the Queens area and a dataframe first 5 rows are shown for the neighborhoods and their latitude and longitude. A map of Queens is displayed using Folium. A search_query is performed to search for 'Vegetarian' and Foursquare with requests.get command is used to list each neighborhood with its venue categories. Venue name, category, latitude and longitude are displayed and available using json to clean the columns to produce the dataframe in ln 27 with the venues in each neighborhood, venue coordinates, and venue type. Coding is used to determine the top 10 most common venues in each neighborhood in Queens based on a frequency rating in which the first most common venue has the highest numerical value for frequency. This is presented neatly in a dataframe table in ln 37 of coding as shown in the table below. K-means clustering is used to organize each neighborhood in Queens according to their most common venues and locations to visualize areas that could be new restaurant locations. \n"
   ]
  },
  {
   "cell_type": "markdown",
   "id": "b053a72b-c8a7-4a5b-9e16-bb6755a8820f",
   "metadata": {},
   "source": [
    "### Results"
   ]
  },
  {
   "cell_type": "markdown",
   "id": "92f2af01-1e95-48d3-b856-fbd5084b11c4",
   "metadata": {},
   "source": [
    "There are 81 neighborhoods listed for Queens, New York. Only two neighborhoods, Fresh Meadows and South Jamaica neighborhoods were discovered to have restaurants with the venue category vegetarian / vegan restaurant in Clusters 2 and 4. No neighborhoods had vegetarian / vegan restaurant as common venue above the 6th rank. Vegetarian and vegan restaurants were ranked the 6th common venue. Cluster 1 lists neighborhoods with Filipino, Falafel, Fast Food, and numerous other restaurants as the most common restaurant venues in the top 10 most common venues. The first most common venues include deli / bodega as the category type. Cluster 2 with its neighborhoods features pizza places among the first most common venue for restaurants. The top 10 common venues among all neighborhoods include deli/bodega, seafood, pizza, bakery, Mexican, Falafel, café, empanada, fast food, Chinese, Korean, Cafe, and sandwich dining options to name a portion of options.\n",
    "\n",
    "Cluster 3 with one neighborhood, the Somerville neighborhood, has Nature Preserve as the first most common venue and has empanada, fast food, and Eastern Europen restaurants types for its area.  for one neighborhood in a cluster. Cluster 4 with the Breezy Point and Neponsit neighborhoods has Filipino, Falafel, fast food, and fish & chips for dining in its most common restaurant venues. The first most common venue are beaches. Cluster 5 has Malba and Bayswater neighborhoods in its cluster. In its top 10 most common venues are Filipino, Falafel, fast food, and empanada restaurants.  \n",
    "\n",
    "The only cluster with vegetarian and vegan restaurants is Cluster 2 in two neighborhoods, the Fresh Meadows and South Jamaica neighborhoods where it is listed as only the 7th and 10th most common venue for the two neighborhoods."
   ]
  },
  {
   "cell_type": "markdown",
   "id": "dbc543c2-6e64-4d71-bd1a-a9cdf0888ee2",
   "metadata": {},
   "source": [
    "### Discussion"
   ]
  },
  {
   "cell_type": "markdown",
   "id": "17348e56-f387-4b48-bf27-3b302c1fd650",
   "metadata": {},
   "source": [
    "Fresh Meadows and South Jamaica may be neighborhoods with interest in more vegetarian and vegan options since this restaurant type is one of the top 10 venues, demonstrating the potential for growth in local vegetarian and vegan dining. Clusters 2 may be a profitable area to add a vegetarian / vegan restaurant since it has venue categories for vegetarian and vegan already begun in this area and is the only cluster with vegetarian and vegan as a most common venue. Cluster 4, Breezy Point and Newponsit neighborhoods, feautures beaches as the most common venue and may also have interest in a vegetarian and vegan restaurant with landmark, restaurants, event spaces as most common areas. Somerville is the only neighborhood in Cluster 3 and features a nature preserve so a new restaurant may not be the best for this neighborhood. Cluster 5 could also be a good area because it does not have vegetarian and vegan restaurant as a most common venue but has high consumer traffic with area attractions such as tennis courts and playground where residents and travelers may gather and frequent the area and may prefer vegetarian and vegan options. Cluster 5,  with the Malba and Bayswater neighborhoods, has tennis courts and playground as the most (first most) common venue and event spaces as common venues prefer vegetarian and vegan dining options. Clusters 1 and 2 contain numerous restaurant types included and Cluster 2 has the only two vegetarian and vegan restaurant listed as a most common venue within the top 10 common venues. However, both clusters are too large to pinpoint a specific neighborhood based on k-means clustering alone. Additional analysis and characteristics of the neighborhoods dining preferences, especially in Clusters 1 and 2, could be explored to further understand where to build a restaurant. As Queens is a multicultural area, the vegetarian and vegan restaurants may choose to add various dishes based on the most common local restaurant categories including Filipino, Chinese, and Pizza, which are common restaurant categories that may not have many vegetarian and vegan options and this could present good competition for Filipino, Chinese, and Pizza restaurant goers for example. "
   ]
  },
  {
   "cell_type": "markdown",
   "id": "04b40160-4c2c-4792-bf2e-783c1eb85968",
   "metadata": {},
   "source": [
    "### Conclusion"
   ]
  },
  {
   "cell_type": "markdown",
   "id": "243e9f92-f9e6-4173-81b5-32e1a2ad90a2",
   "metadata": {},
   "source": [
    "There are many different types of restaurant options in Queens, New York, however, it seems there could be more vegetarian and vegan restaurants for those seeking these restaurants as there are only two listed out of all 81 neighborhoods as “Vegetarian and Vegan Restaurants.” Cluster 2, 4, and 5 are best to begin to further explore areas for new vegetarian and vegan dining options because they have areas of attraction and / or vegetarian and vegan restaurants listed as most common venues and are recommended as locations for new business."
   ]
  },
  {
   "cell_type": "code",
   "execution_count": null,
   "id": "27ba58e9-6a90-478d-9704-a7ca280838cf",
   "metadata": {},
   "outputs": [],
   "source": []
  }
 ],
 "metadata": {
  "kernelspec": {
   "display_name": "Python",
   "language": "python",
   "name": "conda-env-python-py"
  },
  "language_info": {
   "codemirror_mode": {
    "name": "ipython",
    "version": 3
   },
   "file_extension": ".py",
   "mimetype": "text/x-python",
   "name": "python",
   "nbconvert_exporter": "python",
   "pygments_lexer": "ipython3",
   "version": "3.6.13"
  }
 },
 "nbformat": 4,
 "nbformat_minor": 5
}
